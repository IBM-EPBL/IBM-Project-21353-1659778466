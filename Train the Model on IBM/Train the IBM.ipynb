{
 "cells": [
  {
   "cell_type": "code",
   "execution_count": 3,
   "id": "4f3bb1e1",
   "metadata": {},
   "outputs": [
    {
     "name": "stdout",
     "output_type": "stream",
     "text": [
      "eyJraWQiOiIyMDIyMTExMjA4MjgiLCJhbGciOiJSUzI1NiJ9.eyJpYW1faWQiOiJJQk1pZC02NjgwMDBGV0xDIiwiaWQiOiJJQk1pZC02NjgwMDBGV0xDIiwicmVhbG1pZCI6IklCTWlkIiwianRpIjoiYTE2ZWVlMDYtYTRlZi00MjU0LTljZDktMGNlM2IyMGUyM2Y4IiwiaWRlbnRpZmllciI6IjY2ODAwMEZXTEMiLCJnaXZlbl9uYW1lIjoiU2FhcnVtYXRoaSIsImZhbWlseV9uYW1lIjoiUiIsIm5hbWUiOiJTYWFydW1hdGhpIFIiLCJlbWFpbCI6ImNvbnRhY3RvdXJleHBlcnRAZ21haWwuY29tIiwic3ViIjoiY29udGFjdG91cmV4cGVydEBnbWFpbC5jb20iLCJhdXRobiI6eyJzdWIiOiJjb250YWN0b3VyZXhwZXJ0QGdtYWlsLmNvbSIsImlhbV9pZCI6IklCTWlkLTY2ODAwMEZXTEMiLCJuYW1lIjoiU2FhcnVtYXRoaSBSIiwiZ2l2ZW5fbmFtZSI6IlNhYXJ1bWF0aGkiLCJmYW1pbHlfbmFtZSI6IlIiLCJlbWFpbCI6ImNvbnRhY3RvdXJleHBlcnRAZ21haWwuY29tIn0sImFjY291bnQiOnsiYm91bmRhcnkiOiJnbG9iYWwiLCJ2YWxpZCI6dHJ1ZSwiYnNzIjoiZDcwZmM3YTU2YWJmNDdjYmE4YTZmNDk2NGMxMTY4NzciLCJmcm96ZW4iOnRydWV9LCJpYXQiOjE2Njg4NTY3NjEsImV4cCI6MTY2ODg2MDM2MSwiaXNzIjoiaHR0cHM6Ly9pYW0uY2xvdWQuaWJtLmNvbS9pZGVudGl0eSIsImdyYW50X3R5cGUiOiJ1cm46aWJtOnBhcmFtczpvYXV0aDpncmFudC10eXBlOmFwaWtleSIsInNjb3BlIjoiaWJtIG9wZW5pZCIsImNsaWVudF9pZCI6ImRlZmF1bHQiLCJhY3IiOjEsImFtciI6WyJwd2QiXX0.Em3RNVO7X7prUQzA_2eQ_LVPe3w2cGycZaMbdW6YnwK1QmoF7zebcuJDUEQBbCm0GPbLq6ONeWv6R-B0RrBBgJh6JlIoa9nObPyuu5lQ7ViCy2nLKiG7NTubHweDf4QBiDJ6SyLzCVgmHKuSciZIn1t4AL9fYWuLs_PvEXXq_3q8Lrv01diKgC9KZ4724WUt4Xo1DYggu7R6A15vqHzkD2wFN8Y0dLa696EdSqa6t7o7pCS9I6l68kwXFMuX44iPzaFGKETFDaC79hYro9xWY2840vQiTW55deTw1gNapiPid8fvd2Iac6ZMEkCBZKUjipGbUE7CdKcEMbM61MlVBw\n"
     ]
    }
   ],
   "source": [
    "import requests\n",
    "\n",
    "# NOTE: you must manually set API_KEY below using information retrieved from your IBM Cloud account.\n",
    "API_KEY = \"l9IDHF0PY26b_0aQV6r-Mio1iZ-3nQSgUXO_sEUx32JX\"\n",
    "token_response = requests.post('https://iam.cloud.ibm.com/identity/token', data={\"apikey\":\n",
    " API_KEY, \"grant_type\": 'urn:ibm:params:oauth:grant-type:apikey'})\n",
    "mltoken = token_response.json()[\"access_token\"]\n",
    "print(mltoken)\n",
    "header = {'Content-Type': 'application/json', 'Authorization': 'Bearer ' + mltoken}\n",
    "\n",
    "# NOTE: manually define and pass the array(s) of values to be scored in the next line\n",
    "payload_scoring = {\"input_data\": [{\"field\": [\"Age\",\"Gender\",\"Total_Bilirubin\",\"Direct_Bilirubin\",\"Alkaline_Phosphotase\",\"Alamine_Aminotransferase\",\"Aspartate_Aminotransferase\",\"Total_Protiens\",\"Albumin\",\"Albumin_and_Globulin_Ratio\",\"Dataset\"], \"values\": [65,\"Female\",0.7,0.1,187,16,18,6.3,3.3,0.9,1]}]}\n",
    "\n",
    "response_scoring = requests.post('https://us-south.ml.cloud.ibm.com/ml/v4/deployments/f4648103-3172-4e79-9166-48d11b5fa047/predictions?version=2022-11-17', json=payload_scoring,\n",
    " headers={'Authorization': 'Bearer ' + mltoken})\n",
    "#print(\"Scoring response\")\n",
    "#print(response_scoring.json())"
   ]
  },
  {
   "cell_type": "code",
   "execution_count": null,
   "id": "d956583d",
   "metadata": {},
   "outputs": [],
   "source": []
  }
 ],
 "metadata": {
  "kernelspec": {
   "display_name": "Python 3",
   "language": "python",
   "name": "python3"
  },
  "language_info": {
   "codemirror_mode": {
    "name": "ipython",
    "version": 3
   },
   "file_extension": ".py",
   "mimetype": "text/x-python",
   "name": "python",
   "nbconvert_exporter": "python",
   "pygments_lexer": "ipython3",
   "version": "3.8.8"
  }
 },
 "nbformat": 4,
 "nbformat_minor": 5
}
