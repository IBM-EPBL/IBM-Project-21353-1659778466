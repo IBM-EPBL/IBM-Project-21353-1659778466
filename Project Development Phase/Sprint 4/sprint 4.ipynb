{
 "cells": [
  {
   "cell_type": "code",
   "execution_count": null,
   "id": "a718ac1e",
   "metadata": {},
   "outputs": [
    {
     "name": "stdout",
     "output_type": "stream",
     "text": [
      " * Serving Flask app \"__main__\" (lazy loading)\n",
      " * Environment: production\n",
      "   WARNING: This is a development server. Do not use it in a production deployment.\n",
      "   Use a production WSGI server instead.\n",
      " * Debug mode: off\n"
     ]
    },
    {
     "name": "stderr",
     "output_type": "stream",
     "text": [
      " * Running on http://127.0.0.1:5000/ (Press CTRL+C to quit)\n"
     ]
    }
   ],
   "source": [
    "from flask import Flask, render_template, request\n",
    "import numpy as np\n",
    "import pickle\n",
    "\n",
    "\n",
    "app = Flask(__name__)\n",
    "model = pickle.load(open('Liver2.pkl', 'rb'))\n",
    "\n",
    "@app.route('/',methods=['GET'])\n",
    "def Home():\n",
    "    return render_template('index.html')\n",
    "\n",
    "@app.route(\"/predict\", methods=['POST'])\n",
    "def predict():\n",
    "    if request.method == 'POST':\n",
    "        Age = int(request.form['Age'])\n",
    "        Gender = int(request.form['Gender'])\n",
    "        Total_Bilirubin = float(request.form['Total_Bilirubin'])\n",
    "        Alkaline_Phosphotase = int(request.form['Alkaline_Phosphotase'])\n",
    "        Alamine_Aminotransferase = int(request.form['Alamine_Aminotransferase'])\n",
    "        Aspartate_Aminotransferase = int(request.form['Aspartate_Aminotransferase'])\n",
    "        Total_Protiens = float(request.form['Total_Protiens'])\n",
    "        Albumin = float(request.form['Albumin'])\n",
    "        Albumin_and_Globulin_Ratio = float(request.form['Albumin_and_Globulin_Ratio'])\n",
    "\n",
    "\n",
    "        values = np.array([[Age,Gender,Total_Bilirubin,Alkaline_Phosphotase,Alamine_Aminotransferase,Aspartate_Aminotransferase,Total_Protiens,Albumin,Albumin_and_Globulin_Ratio]])\n",
    "        prediction = model.predict(values)\n",
    "\n",
    "        return render_template('result.html', prediction=prediction)\n",
    "\n",
    "\n",
    "if __name__ == \"__main__\":\n",
    "    app.run(debug=False)\n",
    "\n"
   ]
  },
  {
   "cell_type": "code",
   "execution_count": null,
   "id": "edaba475",
   "metadata": {},
   "outputs": [],
   "source": []
  },
  {
   "cell_type": "code",
   "execution_count": null,
   "id": "25002425",
   "metadata": {},
   "outputs": [],
   "source": []
  }
 ],
 "metadata": {
  "kernelspec": {
   "display_name": "Python 3",
   "language": "python",
   "name": "python3"
  },
  "language_info": {
   "codemirror_mode": {
    "name": "ipython",
    "version": 3
   },
   "file_extension": ".py",
   "mimetype": "text/x-python",
   "name": "python",
   "nbconvert_exporter": "python",
   "pygments_lexer": "ipython3",
   "version": "3.8.8"
  }
 },
 "nbformat": 4,
 "nbformat_minor": 5
}
